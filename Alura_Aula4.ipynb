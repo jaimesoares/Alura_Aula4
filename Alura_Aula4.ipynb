{
  "nbformat": 4,
  "nbformat_minor": 0,
  "metadata": {
    "colab": {
      "provenance": [],
      "authorship_tag": "ABX9TyMKQg+0T7Rc2aEEGyKihfVi",
      "include_colab_link": true
    },
    "kernelspec": {
      "name": "python3",
      "display_name": "Python 3"
    },
    "language_info": {
      "name": "python"
    }
  },
  "cells": [
    {
      "cell_type": "markdown",
      "metadata": {
        "id": "view-in-github",
        "colab_type": "text"
      },
      "source": [
        "<a href=\"https://colab.research.google.com/github/jaimesoares/Alura_Aula4/blob/main/Alura_Aula4.ipynb\" target=\"_parent\"><img src=\"https://colab.research.google.com/assets/colab-badge.svg\" alt=\"Open In Colab\"/></a>"
      ]
    },
    {
      "cell_type": "code",
      "execution_count": 3,
      "metadata": {
        "id": "a9ccjgmY959-"
      },
      "outputs": [],
      "source": [
        "!pip install -q -U google-generativeai\n"
      ]
    },
    {
      "cell_type": "code",
      "source": [
        "# Import the Python SDK\n",
        "import google.generativeai as genai\n",
        "from google.colab import userdata\n",
        "api_key = userdata.get('SECRET_KEY')\n",
        "genai.configure(api_key = api_key)\n",
        "\n"
      ],
      "metadata": {
        "id": "WRm2Iqll-Oz-"
      },
      "execution_count": 15,
      "outputs": []
    },
    {
      "cell_type": "code",
      "source": [
        "model = genai.GenerativeModel('gemini-pro')"
      ],
      "metadata": {
        "id": "l66aTDjU-UFX"
      },
      "execution_count": 5,
      "outputs": []
    },
    {
      "cell_type": "code",
      "source": [
        "for m in genai.list_models():\n",
        "  if 'generateContent' in m.supported_generation_methods:\n",
        "    print(m.name)"
      ],
      "metadata": {
        "colab": {
          "base_uri": "https://localhost:8080/",
          "height": 139
        },
        "id": "jnmQBzwr_TTf",
        "outputId": "c85dca61-f3ab-449f-c20f-b73dd3d2f7cf"
      },
      "execution_count": 6,
      "outputs": [
        {
          "output_type": "stream",
          "name": "stdout",
          "text": [
            "models/gemini-1.0-pro\n",
            "models/gemini-1.0-pro-001\n",
            "models/gemini-1.0-pro-latest\n",
            "models/gemini-1.0-pro-vision-latest\n",
            "models/gemini-1.5-pro-latest\n",
            "models/gemini-pro\n",
            "models/gemini-pro-vision\n"
          ]
        }
      ]
    },
    {
      "cell_type": "code",
      "source": [
        "generation_config = {\n",
        "    \"candidate_count\": 1,\n",
        "    \"temperature\": 0.5,\n",
        "}"
      ],
      "metadata": {
        "id": "F8LPKQbfA6qD"
      },
      "execution_count": 7,
      "outputs": []
    },
    {
      "cell_type": "code",
      "source": [
        "safety_settings ={\n",
        "    \"HARASSMENT\" : \"BLOCK_NONE\",\n",
        "    \"HATE\" : \"BLOCK_NONE\",\n",
        "    \"SEXUAL\" : \"BLOCK_NONE\",\n",
        "    \"DANGEROUS\" :\"BLOCK_NONE\",\n",
        "}"
      ],
      "metadata": {
        "id": "YGNbGM1_BmXd"
      },
      "execution_count": 8,
      "outputs": []
    },
    {
      "cell_type": "code",
      "source": [
        "model = genai.GenerativeModel(model_name=\"gemini-1.0-pro\",\n",
        "                              generation_config=generation_config,\n",
        "                              safety_settings=safety_settings)"
      ],
      "metadata": {
        "id": "6jG7lh6hE2bS"
      },
      "execution_count": 9,
      "outputs": []
    },
    {
      "cell_type": "code",
      "source": [
        "response = model.generate_content(\"Vamos aprender conteúdo sobre IA. Me dê sugestões.\")\n",
        "print(response.text)"
      ],
      "metadata": {
        "colab": {
          "base_uri": "https://localhost:8080/",
          "height": 783
        },
        "id": "FJiX9MhQFboq",
        "outputId": "3ab91311-5a3a-4c07-a94d-34fc10fca411"
      },
      "execution_count": 10,
      "outputs": [
        {
          "output_type": "stream",
          "name": "stdout",
          "text": [
            "**Conceitos Fundamentais**\n",
            "\n",
            "* Definição e tipos de Inteligência Artificial (IA)\n",
            "* Aprendizado de Máquina (ML)\n",
            "* Aprendizado Profundo (DL)\n",
            "* Redes Neurais\n",
            "* Processamento de Linguagem Natural (PNL)\n",
            "\n",
            "**Aplicações da IA**\n",
            "\n",
            "* Automação de tarefas repetitivas\n",
            "* Análise preditiva e tomada de decisão\n",
            "* Reconhecimento de padrões e processamento de imagens\n",
            "* Diagnóstico médico e descoberta de medicamentos\n",
            "* Veículos autônomos e robótica\n",
            "\n",
            "**Tipos de IA**\n",
            "\n",
            "* IA Reativa\n",
            "* Memória Limitada\n",
            "* Teoria da Mente\n",
            "* Autoconsciência\n",
            "\n",
            "**Ética e Implicações Sociais**\n",
            "\n",
            "* Viés e discriminação na IA\n",
            "* Desemprego tecnológico\n",
            "* Privacidade e segurança de dados\n",
            "* Regulamentação e governança da IA\n",
            "\n",
            "**Recursos Educacionais**\n",
            "\n",
            "* **Cursos online:** Coursera, edX, Udemy\n",
            "* **Livros:** \"Inteligência Artificial: Uma Abordagem Moderna\" (Stuart Russell e Peter Norvig), \"Aprendizado Profundo\" (Ian Goodfellow, Yoshua Bengio e Aaron Courville)\n",
            "* **Conferências e eventos:** NeurIPS, ICML, CVPR\n",
            "* **Revistas e periódicos:** Nature Machine Intelligence, Journal of Machine Learning Research\n",
            "\n",
            "**Dicas para Aprender IA**\n",
            "\n",
            "* Comece com os conceitos básicos e gradualmente avance para tópicos mais avançados.\n",
            "* Pratique regularmente com conjuntos de dados e exercícios de codificação.\n",
            "* Participe de fóruns e comunidades online para se conectar com outros aprendizes.\n",
            "* Mantenha-se atualizado com as últimas pesquisas e tendências em IA.\n"
          ]
        }
      ]
    },
    {
      "cell_type": "code",
      "source": [
        "chat = model.start_chat(history=[])"
      ],
      "metadata": {
        "id": "f7FS5D32ImUU"
      },
      "execution_count": 11,
      "outputs": []
    },
    {
      "cell_type": "code",
      "source": [
        "prompt = input(\"Esperando prompt: \")\n",
        "\n",
        "while prompt != \"fim\":\n",
        "  response = chat.send_message(prompt)\n",
        "  print(\"Resposta: \", response.text, \"\\n\")\n",
        "  prompt = input(\"Esperando prompt: \")"
      ],
      "metadata": {
        "colab": {
          "base_uri": "https://localhost:8080/",
          "height": 139
        },
        "id": "Wxgl18OKNR6Y",
        "outputId": "ceae9776-fdb8-4f5a-f3aa-31b1b8717a7d"
      },
      "execution_count": 16,
      "outputs": [
        {
          "name": "stdout",
          "output_type": "stream",
          "text": [
            "Esperando prompt: Qual é a capital do Japao\n",
            "Resposta:  Tóquio \n",
            "\n",
            "Esperando prompt: qual a comida tipica dessa cidade\n",
            "Resposta:  Sushi \n",
            "\n",
            "Esperando prompt: fim\n"
          ]
        }
      ]
    }
  ]
}